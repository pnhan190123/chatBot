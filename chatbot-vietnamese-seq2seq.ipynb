{
 "cells": [
  {
   "cell_type": "markdown",
   "id": "8b6b5ac8",
   "metadata": {
    "id": "N10v8EqGI1Ro",
    "papermill": {
     "duration": 0.027134,
     "end_time": "2022-05-29T15:54:47.606538",
     "exception": false,
     "start_time": "2022-05-29T15:54:47.579404",
     "status": "completed"
    },
    "tags": []
   },
   "source": [
    "# Xây dựng Chatbot sử dụng mô hình Sequence2Sequence"
   ]
  },
  {
   "cell_type": "code",
   "execution_count": 2,
   "id": "f6e73d0f",
   "metadata": {
    "execution": {
     "iopub.execute_input": "2022-05-29T15:54:47.660077Z",
     "iopub.status.busy": "2022-05-29T15:54:47.659694Z",
     "iopub.status.idle": "2022-05-29T15:55:01.914322Z",
     "shell.execute_reply": "2022-05-29T15:55:01.913557Z"
    },
    "id": "s16yZMa6JCQt",
    "outputId": "856d1524-bf72-4027-d04b-465b0b425be8",
    "papermill": {
     "duration": 14.284114,
     "end_time": "2022-05-29T15:55:01.916485",
     "exception": false,
     "start_time": "2022-05-29T15:54:47.632371",
     "status": "completed"
    },
    "tags": []
   },
   "outputs": [
    {
     "name": "stdout",
     "output_type": "stream",
     "text": [
      "Requirement already satisfied: underthesea in c:\\users\\pnhan\\appdata\\local\\programs\\python\\python311\\lib\\site-packages (6.2.0)\n",
      "Requirement already satisfied: Click>=6.0 in c:\\users\\pnhan\\appdata\\local\\programs\\python\\python311\\lib\\site-packages (from underthesea) (7.0)\n",
      "Requirement already satisfied: python-crfsuite>=0.9.6 in c:\\users\\pnhan\\appdata\\local\\programs\\python\\python311\\lib\\site-packages (from underthesea) (0.9.9)\n",
      "Requirement already satisfied: nltk in c:\\users\\pnhan\\appdata\\local\\programs\\python\\python311\\lib\\site-packages (from underthesea) (3.8.1)\n",
      "Requirement already satisfied: tqdm in c:\\users\\pnhan\\appdata\\local\\programs\\python\\python311\\lib\\site-packages (from underthesea) (4.11.2)\n",
      "Requirement already satisfied: requests in c:\\users\\pnhan\\appdata\\local\\programs\\python\\python311\\lib\\site-packages (from underthesea) (2.28.2)\n",
      "Requirement already satisfied: joblib in c:\\users\\pnhan\\appdata\\local\\programs\\python\\python311\\lib\\site-packages (from underthesea) (1.2.0)\n",
      "Requirement already satisfied: scikit-learn in c:\\users\\pnhan\\appdata\\local\\programs\\python\\python311\\lib\\site-packages (from underthesea) (1.2.0)\n",
      "Requirement already satisfied: PyYAML in c:\\users\\pnhan\\appdata\\local\\programs\\python\\python311\\lib\\site-packages (from underthesea) (6.0)\n",
      "Requirement already satisfied: underthesea-core==1.0.0 in c:\\users\\pnhan\\appdata\\local\\programs\\python\\python311\\lib\\site-packages (from underthesea) (1.0.0)\n",
      "Requirement already satisfied: regex>=2021.8.3 in c:\\users\\pnhan\\appdata\\local\\programs\\python\\python311\\lib\\site-packages (from nltk->underthesea) (2022.10.31)\n",
      "Requirement already satisfied: charset-normalizer<4,>=2 in c:\\users\\pnhan\\appdata\\local\\programs\\python\\python311\\lib\\site-packages (from requests->underthesea) (3.0.1)\n",
      "Requirement already satisfied: idna<4,>=2.5 in c:\\users\\pnhan\\appdata\\local\\programs\\python\\python311\\lib\\site-packages (from requests->underthesea) (3.4)\n",
      "Requirement already satisfied: urllib3<1.27,>=1.21.1 in c:\\users\\pnhan\\appdata\\local\\programs\\python\\python311\\lib\\site-packages (from requests->underthesea) (1.26.14)\n",
      "Requirement already satisfied: certifi>=2017.4.17 in c:\\users\\pnhan\\appdata\\local\\programs\\python\\python311\\lib\\site-packages (from requests->underthesea) (2022.12.7)\n",
      "Requirement already satisfied: numpy>=1.17.3 in c:\\users\\pnhan\\appdata\\local\\programs\\python\\python311\\lib\\site-packages (from scikit-learn->underthesea) (1.23.5)\n",
      "Requirement already satisfied: scipy>=1.3.2 in c:\\users\\pnhan\\appdata\\local\\programs\\python\\python311\\lib\\site-packages (from scikit-learn->underthesea) (1.9.3)\n",
      "Requirement already satisfied: threadpoolctl>=2.0.0 in c:\\users\\pnhan\\appdata\\local\\programs\\python\\python311\\lib\\site-packages (from scikit-learn->underthesea) (3.1.0)\n"
     ]
    }
   ],
   "source": [
    "!pip install underthesea"
   ]
  },
  {
   "cell_type": "code",
   "execution_count": 3,
   "id": "e44901c8",
   "metadata": {
    "execution": {
     "iopub.execute_input": "2022-05-29T15:55:01.998483Z",
     "iopub.status.busy": "2022-05-29T15:55:01.998221Z",
     "iopub.status.idle": "2022-05-29T15:55:08.229194Z",
     "shell.execute_reply": "2022-05-29T15:55:08.228477Z"
    },
    "id": "BECuUXItI1o5",
    "papermill": {
     "duration": 6.273928,
     "end_time": "2022-05-29T15:55:08.231328",
     "exception": false,
     "start_time": "2022-05-29T15:55:01.957400",
     "status": "completed"
    },
    "tags": []
   },
   "outputs": [],
   "source": [
    "import tensorflow as tf\n",
    "import pandas as pd\n",
    "import numpy as np\n",
    "import re,string\n",
    "from gensim.models import KeyedVectors\n",
    "from collections import Counter\n",
    "from underthesea import word_tokenize\n",
    "from tensorflow.keras.preprocessing.text import Tokenizer \n",
    "from tensorflow.keras.preprocessing.sequence import pad_sequences\n",
    "from keras.layers import Input, LSTM, Embedding, Dense\n",
    "from keras.models import Model, Sequential\n",
    "from tensorflow.keras.optimizers import RMSprop\n",
    "from keras.losses import categorical_crossentropy\n",
    "from keras import utils\n",
    "from tensorflow.keras import preprocessing, utils, activations\n",
    "from keras.callbacks import ModelCheckpoint\n",
    "import warnings\n",
    "warnings.filterwarnings('ignore')"
   ]
  },
  {
   "cell_type": "code",
   "execution_count": 4,
   "id": "7cbfdde6",
   "metadata": {
    "execution": {
     "iopub.execute_input": "2022-05-29T15:55:08.314302Z",
     "iopub.status.busy": "2022-05-29T15:55:08.314085Z",
     "iopub.status.idle": "2022-05-29T15:55:08.353987Z",
     "shell.execute_reply": "2022-05-29T15:55:08.353267Z"
    },
    "id": "_Va-SWVOJLeO",
    "outputId": "11990d37-cb42-4ab3-9a42-368d8fe76c1e",
    "papermill": {
     "duration": 0.082146,
     "end_time": "2022-05-29T15:55:08.356041",
     "exception": false,
     "start_time": "2022-05-29T15:55:08.273895",
     "status": "completed"
    },
    "tags": []
   },
   "outputs": [
    {
     "data": {
      "text/html": [
       "<div>\n",
       "<style scoped>\n",
       "    .dataframe tbody tr th:only-of-type {\n",
       "        vertical-align: middle;\n",
       "    }\n",
       "\n",
       "    .dataframe tbody tr th {\n",
       "        vertical-align: top;\n",
       "    }\n",
       "\n",
       "    .dataframe thead th {\n",
       "        text-align: right;\n",
       "    }\n",
       "</style>\n",
       "<table border=\"1\" class=\"dataframe\">\n",
       "  <thead>\n",
       "    <tr style=\"text-align: right;\">\n",
       "      <th></th>\n",
       "      <th>Unnamed: 0</th>\n",
       "      <th>user_a</th>\n",
       "      <th>user_b</th>\n",
       "    </tr>\n",
       "  </thead>\n",
       "  <tbody>\n",
       "    <tr>\n",
       "      <th>0</th>\n",
       "      <td>0</td>\n",
       "      <td>Thích mẫu người nào</td>\n",
       "      <td>Dễ thương, tóc dài, da trắng</td>\n",
       "    </tr>\n",
       "    <tr>\n",
       "      <th>1</th>\n",
       "      <td>1</td>\n",
       "      <td>Có crush ai không</td>\n",
       "      <td>Có 1 bạn cùng lớp</td>\n",
       "    </tr>\n",
       "    <tr>\n",
       "      <th>2</th>\n",
       "      <td>2</td>\n",
       "      <td>Tại sao lại thích bạn dó</td>\n",
       "      <td>Vì đáp ứng những yêu cầu của tao</td>\n",
       "    </tr>\n",
       "    <tr>\n",
       "      <th>3</th>\n",
       "      <td>3</td>\n",
       "      <td>Có hay nói chuyện không</td>\n",
       "      <td>Hay nhắn tin messenger</td>\n",
       "    </tr>\n",
       "    <tr>\n",
       "      <th>4</th>\n",
       "      <td>4</td>\n",
       "      <td>Bạn kia có bắt chuyện trước không</td>\n",
       "      <td>Có đôi khi</td>\n",
       "    </tr>\n",
       "  </tbody>\n",
       "</table>\n",
       "</div>"
      ],
      "text/plain": [
       "   Unnamed: 0                             user_a  \\\n",
       "0           0                Thích mẫu người nào   \n",
       "1           1                  Có crush ai không   \n",
       "2           2           Tại sao lại thích bạn dó   \n",
       "3           3            Có hay nói chuyện không   \n",
       "4           4  Bạn kia có bắt chuyện trước không   \n",
       "\n",
       "                             user_b  \n",
       "0      Dễ thương, tóc dài, da trắng  \n",
       "1                 Có 1 bạn cùng lớp  \n",
       "2  Vì đáp ứng những yêu cầu của tao  \n",
       "3            Hay nhắn tin messenger  \n",
       "4                        Có đôi khi  "
      ]
     },
     "execution_count": 4,
     "metadata": {},
     "output_type": "execute_result"
    }
   ],
   "source": [
    "df = pd.read_csv('E:\\Final NLP\\d liu chatbot question-answer short style.csv')\n",
    "df.head()"
   ]
  },
  {
   "cell_type": "code",
   "execution_count": 5,
   "id": "7252b81c",
   "metadata": {
    "execution": {
     "iopub.execute_input": "2022-05-29T15:55:08.437199Z",
     "iopub.status.busy": "2022-05-29T15:55:08.436975Z",
     "iopub.status.idle": "2022-05-29T15:55:08.441524Z",
     "shell.execute_reply": "2022-05-29T15:55:08.440885Z"
    },
    "id": "7pSEtATtj5VL",
    "outputId": "c94199ba-d188-4511-c8a0-ae263bae257c",
    "papermill": {
     "duration": 0.04715,
     "end_time": "2022-05-29T15:55:08.443194",
     "exception": false,
     "start_time": "2022-05-29T15:55:08.396044",
     "status": "completed"
    },
    "tags": []
   },
   "outputs": [
    {
     "data": {
      "text/plain": [
       "(7278, 3)"
      ]
     },
     "execution_count": 5,
     "metadata": {},
     "output_type": "execute_result"
    }
   ],
   "source": [
    "df.shape"
   ]
  },
  {
   "cell_type": "markdown",
   "id": "70f35c87",
   "metadata": {
    "id": "WHl7tRh9lO9n",
    "papermill": {
     "duration": 0.039332,
     "end_time": "2022-05-29T15:55:08.522934",
     "exception": false,
     "start_time": "2022-05-29T15:55:08.483602",
     "status": "completed"
    },
    "tags": []
   },
   "source": [
    "**Text Cleaning / Preprocessing**"
   ]
  },
  {
   "cell_type": "code",
   "execution_count": 6,
   "id": "ffe256c2",
   "metadata": {
    "execution": {
     "iopub.execute_input": "2022-05-29T15:55:08.603755Z",
     "iopub.status.busy": "2022-05-29T15:55:08.603543Z",
     "iopub.status.idle": "2022-05-29T15:55:08.611261Z",
     "shell.execute_reply": "2022-05-29T15:55:08.610639Z"
    },
    "id": "UkcfrZNKlm9i",
    "outputId": "66d7ca6f-fe52-4c7d-d8a8-775723065e2b",
    "papermill": {
     "duration": 0.050303,
     "end_time": "2022-05-29T15:55:08.612956",
     "exception": false,
     "start_time": "2022-05-29T15:55:08.562653",
     "status": "completed"
    },
    "tags": []
   },
   "outputs": [
    {
     "data": {
      "text/plain": [
       "Unnamed: 0    0\n",
       "user_a        0\n",
       "user_b        1\n",
       "dtype: int64"
      ]
     },
     "execution_count": 6,
     "metadata": {},
     "output_type": "execute_result"
    }
   ],
   "source": [
    "df.isna().sum()"
   ]
  },
  {
   "cell_type": "code",
   "execution_count": 7,
   "id": "6477b02e",
   "metadata": {
    "execution": {
     "iopub.execute_input": "2022-05-29T15:55:08.695001Z",
     "iopub.status.busy": "2022-05-29T15:55:08.694781Z",
     "iopub.status.idle": "2022-05-29T15:55:08.705350Z",
     "shell.execute_reply": "2022-05-29T15:55:08.704686Z"
    },
    "id": "6rEQUmGqhPJY",
    "outputId": "8c8c6859-d9e3-4772-b59b-6448e1ab5403",
    "papermill": {
     "duration": 0.053616,
     "end_time": "2022-05-29T15:55:08.707408",
     "exception": false,
     "start_time": "2022-05-29T15:55:08.653792",
     "status": "completed"
    },
    "tags": []
   },
   "outputs": [
    {
     "name": "stdout",
     "output_type": "stream",
     "text": [
      "Question of nan answer:  ['Anh chị em làm gì?']\n"
     ]
    }
   ],
   "source": [
    "idx = df[df['user_b'].isnull()].index.tolist() # Get index of nan row\n",
    "print('Question of nan answer: ' ,df['user_a'][idx].values)"
   ]
  },
  {
   "cell_type": "code",
   "execution_count": 8,
   "id": "acef5509",
   "metadata": {
    "execution": {
     "iopub.execute_input": "2022-05-29T15:55:08.790817Z",
     "iopub.status.busy": "2022-05-29T15:55:08.790591Z",
     "iopub.status.idle": "2022-05-29T15:55:08.795485Z",
     "shell.execute_reply": "2022-05-29T15:55:08.794791Z"
    },
    "id": "shyshZ51lsWG",
    "papermill": {
     "duration": 0.047941,
     "end_time": "2022-05-29T15:55:08.797174",
     "exception": false,
     "start_time": "2022-05-29T15:55:08.749233",
     "status": "completed"
    },
    "tags": []
   },
   "outputs": [],
   "source": [
    "# Fill in nan row value\n",
    "df['user_b'] = df['user_b'].fillna('Luật sư').values "
   ]
  },
  {
   "cell_type": "code",
   "execution_count": 9,
   "id": "76c6193f",
   "metadata": {
    "execution": {
     "iopub.execute_input": "2022-05-29T15:55:08.879590Z",
     "iopub.status.busy": "2022-05-29T15:55:08.879354Z",
     "iopub.status.idle": "2022-05-29T15:55:08.997858Z",
     "shell.execute_reply": "2022-05-29T15:55:08.997147Z"
    },
    "id": "hYVnIqkEJTTj",
    "papermill": {
     "duration": 0.162083,
     "end_time": "2022-05-29T15:55:08.999902",
     "exception": false,
     "start_time": "2022-05-29T15:55:08.837819",
     "status": "completed"
    },
    "tags": []
   },
   "outputs": [],
   "source": [
    "# Preprocessing\n",
    "EMOTICONS = { \n",
    "    u\":-3\":\"Happy face smiley\",\n",
    "    u\":3\":\"Happy face smiley\",\n",
    "    u\":->\":\"Happy face smiley\",\n",
    "    u\":>\":\"Happy face smiley\",\n",
    "    u\":))\":\"Happy face smiley\",\n",
    "    u\":)))\":\"Happy face smiley\",\n",
    "    u\":))))\":\"Happy face smiley\",\n",
    "    u\":'<\":\"Happy face smiley\",\n",
    "    u\":)\":\"Happy face smiley\",\n",
    "    u\":(\":\"Happy face smiley\",\n",
    "    u\":((\":\"Happy face smiley\",\n",
    "    u\":‑D\":\"Laughing, big grin or laugh with glasses\",\n",
    "    u\":D\":\"Laughing, big grin or laugh with glasses\",\n",
    "    u\"XD\":\"Laughing, big grin or laugh with glasses\",\n",
    "    u\"=D\":\"Laughing, big grin or laugh with glasses\",\n",
    "    u\":‑c\":\"Frown, sad, andry or pouting\",\n",
    "    u\":c\":\"Frown, sad, andry or pouting\",\n",
    "    u\":‑<\":\"Frown, sad, andry or pouting\",\n",
    "    u\":<\":\"Frown, sad, andry or pouting\",\n",
    "    u\":@\":\"Frown, sad, andry or pouting\",\n",
    "    u\"D:\":\"Sadness\",\n",
    "    u\":O\":\"Surprise\",\n",
    "    u\":o\":\"Surprise\",\n",
    "}\n",
    "\n",
    "cnt = Counter()\n",
    "for text in df[\"user_b\"].values:\n",
    "    for word in text.split():\n",
    "        cnt[word] += 1\n",
    "\n",
    "RAREWORDS = set([w for (w, wc) in cnt.most_common()[:-10-1:-1]]) #Get top 10 rare word\n",
    "\n",
    "def remove_emoticons(text):\n",
    "    \"Function to remove emoticons\"\n",
    "    arr = [word for word in text.split() if word not in EMOTICONS.keys()]\n",
    "    return \" \".join(arr)\n",
    "\n",
    "def remove_rarewords(text):\n",
    "    \"\"\"custom function to remove the rare words\"\"\"\n",
    "    return \" \".join([word for word in str(text).split() if word not in RAREWORDS])\n",
    "\n",
    "def preprocessing(df): \n",
    "  df[\"user_a\"] = df[\"user_a\"].apply(lambda ele: ele.translate(str.maketrans('', '', string.punctuation))) # Remove punctuation\n",
    "  df[\"user_b\"] = df[\"user_b\"].apply(lambda ele: ele.translate(str.maketrans('', '', string.punctuation))) \n",
    "  df[\"user_a\"] = df[\"user_a\"].apply(lambda ele: remove_emoticons(ele)) # Remove emoticons\n",
    "  df[\"user_b\"] = df[\"user_b\"].apply(lambda ele: remove_emoticons(ele))\n",
    "  df[\"user_a\"] = df[\"user_a\"].apply(lambda ele: remove_rarewords(ele)) # Remove rarewords\n",
    "  df[\"user_b\"] = df[\"user_b\"].apply(lambda ele: remove_rarewords(ele))\n",
    "  df['user_b'] = df['user_b'].apply(lambda ele: 'START ' + ele + ' END')\n",
    "  df[\"user_a\"] = df[\"user_a\"].apply(lambda ele: ele.lower()) # convert text to lowercase\n",
    "  df[\"user_b\"] = df[\"user_b\"].apply(lambda ele: ele.lower()) \n",
    "  \n",
    "  return df\n",
    "\n",
    "df = preprocessing(df)"
   ]
  },
  {
   "cell_type": "code",
   "execution_count": 10,
   "id": "1e427f8b",
   "metadata": {
    "execution": {
     "iopub.execute_input": "2022-05-29T15:55:09.083427Z",
     "iopub.status.busy": "2022-05-29T15:55:09.083189Z",
     "iopub.status.idle": "2022-05-29T15:55:09.089219Z",
     "shell.execute_reply": "2022-05-29T15:55:09.088546Z"
    },
    "id": "hHcACgVuJWQf",
    "outputId": "e5197964-a274-4f27-de7c-9eab6670aa9d",
    "papermill": {
     "duration": 0.049909,
     "end_time": "2022-05-29T15:55:09.091183",
     "exception": false,
     "start_time": "2022-05-29T15:55:09.041274",
     "status": "completed"
    },
    "tags": []
   },
   "outputs": [
    {
     "name": "stdout",
     "output_type": "stream",
     "text": [
      "['thích mẫu người nào' 'có crush ai không' 'tại sao lại thích bạn dó'\n",
      " 'có hay nói chuyện không' 'bạn kia có bắt chuyện trước không']\n",
      "['start dễ thương tóc dài da trắng end' 'start có 1 bạn cùng lớp end'\n",
      " 'start vì đáp ứng những yêu cầu của tao end'\n",
      " 'start hay nhắn tin messenger end' 'start có đôi khi end']\n"
     ]
    }
   ],
   "source": [
    "data = df.values #numpy \n",
    "questions = data[:,1] # convert question to a list\n",
    "answers = data[:,2] # convert answer that match with question to list\n",
    "print(questions[:5]) \n",
    "print(answers[:5])"
   ]
  },
  {
   "cell_type": "markdown",
   "id": "76c96856",
   "metadata": {
    "papermill": {
     "duration": 0.041452,
     "end_time": "2022-05-29T15:55:09.173476",
     "exception": false,
     "start_time": "2022-05-29T15:55:09.132024",
     "status": "completed"
    },
    "tags": []
   },
   "source": [
    "**Tokenization and Encode, Decode**"
   ]
  },
  {
   "cell_type": "code",
   "execution_count": 11,
   "id": "37250956",
   "metadata": {
    "execution": {
     "iopub.execute_input": "2022-05-29T15:55:09.256827Z",
     "iopub.status.busy": "2022-05-29T15:55:09.256576Z",
     "iopub.status.idle": "2022-05-29T15:55:10.588946Z",
     "shell.execute_reply": "2022-05-29T15:55:10.587310Z"
    },
    "id": "tM0OEAcmJZZY",
    "outputId": "f92e1958-5c12-4f8d-e8f3-94b50715760b",
    "papermill": {
     "duration": 1.376928,
     "end_time": "2022-05-29T15:55:10.591238",
     "exception": false,
     "start_time": "2022-05-29T15:55:09.214310",
     "status": "completed"
    },
    "tags": []
   },
   "outputs": [
    {
     "name": "stdout",
     "output_type": "stream",
     "text": [
      "7278\n",
      "[['thích', 'mẫu', 'người', 'nào'], ['có', 'crush', 'ai', 'không'], ['tại sao', 'lại', 'thích', 'bạn', 'dó']]\n"
     ]
    }
   ],
   "source": [
    "# Tokenization questions\n",
    "questions = [word_tokenize(ques) for ques in questions]\n",
    "print(len(questions))\n",
    "print(questions[:3])"
   ]
  },
  {
   "cell_type": "code",
   "execution_count": 12,
   "id": "2fae10c7",
   "metadata": {
    "execution": {
     "iopub.execute_input": "2022-05-29T15:55:10.676574Z",
     "iopub.status.busy": "2022-05-29T15:55:10.676337Z",
     "iopub.status.idle": "2022-05-29T15:55:12.046447Z",
     "shell.execute_reply": "2022-05-29T15:55:12.045683Z"
    },
    "id": "axGM_AzyKMP-",
    "outputId": "be31a17c-da33-4ceb-e5d0-b174c8e45272",
    "papermill": {
     "duration": 1.416132,
     "end_time": "2022-05-29T15:55:12.049580",
     "exception": false,
     "start_time": "2022-05-29T15:55:10.633448",
     "status": "completed"
    },
    "tags": []
   },
   "outputs": [
    {
     "name": "stdout",
     "output_type": "stream",
     "text": [
      "7278\n",
      "[['start', 'dễ thương', 'tóc', 'dài', 'da', 'trắng', 'end'], ['start', 'có', '1', 'bạn', 'cùng', 'lớp', 'end'], ['start', 'vì', 'đáp ứng', 'những', 'yêu cầu', 'của', 'tao', 'end']]\n"
     ]
    }
   ],
   "source": [
    "# Tokenization answer\n",
    "answers = [word_tokenize(ans) for ans in answers]\n",
    "print(len(answers))\n",
    "print(answers[:3])"
   ]
  },
  {
   "cell_type": "code",
   "execution_count": 13,
   "id": "4179caf9",
   "metadata": {
    "execution": {
     "iopub.execute_input": "2022-05-29T15:55:12.137720Z",
     "iopub.status.busy": "2022-05-29T15:55:12.137480Z",
     "iopub.status.idle": "2022-05-29T15:55:12.206759Z",
     "shell.execute_reply": "2022-05-29T15:55:12.205921Z"
    },
    "id": "QsR71gvjKC1-",
    "outputId": "c310b7db-031a-4bde-8aa7-c17160231259",
    "papermill": {
     "duration": 0.114362,
     "end_time": "2022-05-29T15:55:12.209466",
     "exception": false,
     "start_time": "2022-05-29T15:55:12.095104",
     "status": "completed"
    },
    "tags": []
   },
   "outputs": [
    {
     "name": "stdout",
     "output_type": "stream",
     "text": [
      "VOCAB SIZE : 4719\n"
     ]
    }
   ],
   "source": [
    "tokenizer = Tokenizer()\n",
    "tokenizer.fit_on_texts(questions + answers)\n",
    "VOCAB_SIZE = len(tokenizer.word_index) + 1\n",
    "print( 'VOCAB SIZE : {}'.format( VOCAB_SIZE ))"
   ]
  },
  {
   "cell_type": "code",
   "execution_count": 14,
   "id": "3ef446ce",
   "metadata": {
    "execution": {
     "iopub.execute_input": "2022-05-29T15:55:12.296983Z",
     "iopub.status.busy": "2022-05-29T15:55:12.296318Z",
     "iopub.status.idle": "2022-05-29T15:55:12.300763Z",
     "shell.execute_reply": "2022-05-29T15:55:12.300090Z"
    },
    "id": "xRrlh0_NLe5g",
    "outputId": "96136cf9-b50d-4b33-de58-6f4ee828a09c",
    "papermill": {
     "duration": 0.049468,
     "end_time": "2022-05-29T15:55:12.302638",
     "exception": false,
     "start_time": "2022-05-29T15:55:12.253170",
     "status": "completed"
    },
    "tags": []
   },
   "outputs": [],
   "source": [
    "word2idx = tokenizer.word_index"
   ]
  },
  {
   "cell_type": "code",
   "execution_count": 15,
   "id": "7dc868e2",
   "metadata": {
    "execution": {
     "iopub.execute_input": "2022-05-29T15:55:12.388036Z",
     "iopub.status.busy": "2022-05-29T15:55:12.387540Z",
     "iopub.status.idle": "2022-05-29T15:55:12.435427Z",
     "shell.execute_reply": "2022-05-29T15:55:12.434241Z"
    },
    "id": "LRbibHDuKqY0",
    "outputId": "41a49e62-c8f8-4be8-ce03-857836309b14",
    "papermill": {
     "duration": 0.093721,
     "end_time": "2022-05-29T15:55:12.437857",
     "exception": false,
     "start_time": "2022-05-29T15:55:12.344136",
     "status": "completed"
    },
    "tags": []
   },
   "outputs": [
    {
     "name": "stdout",
     "output_type": "stream",
     "text": [
      "Max length question: 76\n",
      "(7278, 76)\n"
     ]
    }
   ],
   "source": [
    "#encoder_input_data\n",
    "tokenized_questions = tokenizer.texts_to_sequences(questions)\n",
    "maxlen_questions = max([len(x) for x in tokenized_questions])\n",
    "padded_questions = pad_sequences(tokenized_questions, maxlen = maxlen_questions, padding = 'post')\n",
    "encoder_input_data = np.array(padded_questions)\n",
    "print(\"Max length question:\", maxlen_questions)\n",
    "print(encoder_input_data.shape)"
   ]
  },
  {
   "cell_type": "code",
   "execution_count": 16,
   "id": "d9687ebd",
   "metadata": {
    "execution": {
     "iopub.execute_input": "2022-05-29T15:55:12.524073Z",
     "iopub.status.busy": "2022-05-29T15:55:12.523511Z",
     "iopub.status.idle": "2022-05-29T15:55:12.571029Z",
     "shell.execute_reply": "2022-05-29T15:55:12.569851Z"
    },
    "id": "FSuEOE4rLCzo",
    "outputId": "f82dabc2-6649-4901-a519-2fd974f86576",
    "papermill": {
     "duration": 0.092614,
     "end_time": "2022-05-29T15:55:12.573338",
     "exception": false,
     "start_time": "2022-05-29T15:55:12.480724",
     "status": "completed"
    },
    "tags": []
   },
   "outputs": [
    {
     "name": "stdout",
     "output_type": "stream",
     "text": [
      "Max length anwser: 43\n",
      "(7278, 43)\n"
     ]
    }
   ],
   "source": [
    "# decoder_input_data\n",
    "tokenized_answers = tokenizer.texts_to_sequences(answers)\n",
    "maxlen_answers = max([len(x) for x in tokenized_answers])\n",
    "padded_answers = pad_sequences(tokenized_answers, maxlen = maxlen_answers, padding='post')\n",
    "decoder_input_data = np.array(padded_answers)\n",
    "print(\"Max length anwser:\", maxlen_answers)\n",
    "print(decoder_input_data.shape)"
   ]
  },
  {
   "cell_type": "code",
   "execution_count": 17,
   "id": "a300c6f4",
   "metadata": {
    "execution": {
     "iopub.execute_input": "2022-05-29T15:55:12.660919Z",
     "iopub.status.busy": "2022-05-29T15:55:12.660160Z",
     "iopub.status.idle": "2022-05-29T15:55:15.227264Z",
     "shell.execute_reply": "2022-05-29T15:55:15.225619Z"
    },
    "id": "AEHXML0aLRx9",
    "outputId": "e52b5621-ed3c-4e65-8ab2-3c761d452a88",
    "papermill": {
     "duration": 2.612295,
     "end_time": "2022-05-29T15:55:15.229033",
     "exception": false,
     "start_time": "2022-05-29T15:55:12.616738",
     "status": "completed"
    },
    "tags": []
   },
   "outputs": [
    {
     "name": "stdout",
     "output_type": "stream",
     "text": [
      "(7278, 43, 4719)\n"
     ]
    }
   ],
   "source": [
    "# decoder_output_data\n",
    "tokenized_answers = tokenizer.texts_to_sequences(answers)\n",
    "# Remove Start added before\n",
    "for i in range(len(tokenized_answers)):\n",
    "    tokenized_answers[i] = tokenized_answers[i][1:]\n",
    "padded_answers = pad_sequences(tokenized_answers, maxlen = maxlen_answers, padding='post')\n",
    "onehot_answers = utils.to_categorical(padded_answers, VOCAB_SIZE)\n",
    "decoder_output_data = np.array(onehot_answers)\n",
    "print(decoder_output_data.shape)"
   ]
  },
  {
   "cell_type": "markdown",
   "id": "bd51f712",
   "metadata": {
    "papermill": {
     "duration": 0.042686,
     "end_time": "2022-05-29T15:55:15.314750",
     "exception": false,
     "start_time": "2022-05-29T15:55:15.272064",
     "status": "completed"
    },
    "tags": []
   },
   "source": [
    "**Word2Vec Embedding with FastText**"
   ]
  },
  {
   "cell_type": "code",
   "execution_count": 18,
   "id": "2b25350a",
   "metadata": {
    "execution": {
     "iopub.execute_input": "2022-05-29T15:55:15.401443Z",
     "iopub.status.busy": "2022-05-29T15:55:15.401218Z",
     "iopub.status.idle": "2022-05-29T15:56:20.533826Z",
     "shell.execute_reply": "2022-05-29T15:56:20.533092Z"
    },
    "papermill": {
     "duration": 65.220574,
     "end_time": "2022-05-29T15:56:20.578356",
     "exception": false,
     "start_time": "2022-05-29T15:55:15.357782",
     "status": "completed"
    },
    "tags": []
   },
   "outputs": [
    {
     "name": "stdout",
     "output_type": "stream",
     "text": [
      "FastText Loaded!\n"
     ]
    }
   ],
   "source": [
    "fastText_model = KeyedVectors.load_word2vec_format('E:\\Final NLP\\wiki.vi.vec')\n",
    "print(\"FastText Loaded!\")"
   ]
  },
  {
   "cell_type": "code",
   "execution_count": 19,
   "id": "171444b6",
   "metadata": {
    "execution": {
     "iopub.execute_input": "2022-05-29T15:56:20.667599Z",
     "iopub.status.busy": "2022-05-29T15:56:20.667344Z",
     "iopub.status.idle": "2022-05-29T15:56:20.688477Z",
     "shell.execute_reply": "2022-05-29T15:56:20.687239Z"
    },
    "papermill": {
     "duration": 0.067848,
     "end_time": "2022-05-29T15:56:20.690627",
     "exception": false,
     "start_time": "2022-05-29T15:56:20.622779",
     "status": "completed"
    },
    "tags": []
   },
   "outputs": [
    {
     "name": "stdout",
     "output_type": "stream",
     "text": [
      "(4719, 300)\n"
     ]
    }
   ],
   "source": [
    "embeddings_dim = 300\n",
    "\n",
    "embedding_matrix = np.zeros((VOCAB_SIZE, embeddings_dim))\n",
    "\n",
    "for word, index in word2idx.items():\n",
    "    try:\n",
    "        embedding_matrix[index,:] = fastText_model[word]\n",
    "    except:\n",
    "        continue\n",
    "        \n",
    "print(embedding_matrix.shape)"
   ]
  },
  {
   "cell_type": "markdown",
   "id": "79df5ba2",
   "metadata": {
    "papermill": {
     "duration": 0.043313,
     "end_time": "2022-05-29T15:56:20.778037",
     "exception": false,
     "start_time": "2022-05-29T15:56:20.734724",
     "status": "completed"
    },
    "tags": []
   },
   "source": [
    "**Model Defination**"
   ]
  },
  {
   "cell_type": "code",
   "execution_count": 20,
   "id": "5012da88",
   "metadata": {
    "execution": {
     "iopub.execute_input": "2022-05-29T15:56:20.865143Z",
     "iopub.status.busy": "2022-05-29T15:56:20.864938Z",
     "iopub.status.idle": "2022-05-29T15:56:20.895396Z",
     "shell.execute_reply": "2022-05-29T15:56:20.894754Z"
    },
    "papermill": {
     "duration": 0.076126,
     "end_time": "2022-05-29T15:56:20.897136",
     "exception": false,
     "start_time": "2022-05-29T15:56:20.821010",
     "status": "completed"
    },
    "tags": []
   },
   "outputs": [],
   "source": [
    "# Define Embedding Layer\n",
    "embedding_layer_question = Embedding(VOCAB_SIZE,embeddings_dim\n",
    "                                     ,input_length=maxlen_questions\n",
    "                                     ,weights = [embedding_matrix]\n",
    "                                     ,trainable=False)\n",
    "\n",
    "embedding_layer_answer = Embedding(VOCAB_SIZE,embeddings_dim\n",
    "                                     ,input_length=maxlen_answers\n",
    "                                     ,weights = [embedding_matrix]\n",
    "                                     ,trainable=False)"
   ]
  },
  {
   "cell_type": "code",
   "execution_count": 21,
   "id": "1066c06e",
   "metadata": {
    "execution": {
     "iopub.execute_input": "2022-05-29T15:56:20.986062Z",
     "iopub.status.busy": "2022-05-29T15:56:20.985854Z",
     "iopub.status.idle": "2022-05-29T15:56:24.032065Z",
     "shell.execute_reply": "2022-05-29T15:56:24.031213Z"
    },
    "id": "FsoW9mPPRSSk",
    "outputId": "536bdc53-d864-4933-dfd3-13a47d66d4ee",
    "papermill": {
     "duration": 3.09229,
     "end_time": "2022-05-29T15:56:24.034004",
     "exception": false,
     "start_time": "2022-05-29T15:56:20.941714",
     "status": "completed"
    },
    "tags": []
   },
   "outputs": [
    {
     "name": "stdout",
     "output_type": "stream",
     "text": [
      "Model: \"model\"\n",
      "__________________________________________________________________________________________________\n",
      " Layer (type)                   Output Shape         Param #     Connected to                     \n",
      "==================================================================================================\n",
      " input_1 (InputLayer)           [(None, 76)]         0           []                               \n",
      "                                                                                                  \n",
      " input_2 (InputLayer)           [(None, 43)]         0           []                               \n",
      "                                                                                                  \n",
      " embedding (Embedding)          (None, 76, 300)      1415700     ['input_1[0][0]']                \n",
      "                                                                                                  \n",
      " embedding_1 (Embedding)        (None, 43, 300)      1415700     ['input_2[0][0]']                \n",
      "                                                                                                  \n",
      " lstm (LSTM)                    [(None, 300),        721200      ['embedding[0][0]']              \n",
      "                                 (None, 300),                                                     \n",
      "                                 (None, 300)]                                                     \n",
      "                                                                                                  \n",
      " lstm_1 (LSTM)                  [(None, 43, 300),    721200      ['embedding_1[0][0]',            \n",
      "                                 (None, 300),                     'lstm[0][1]',                   \n",
      "                                 (None, 300)]                     'lstm[0][2]']                   \n",
      "                                                                                                  \n",
      " dense (Dense)                  (None, 43, 4719)     1420419     ['lstm_1[0][0]']                 \n",
      "                                                                                                  \n",
      "==================================================================================================\n",
      "Total params: 5,694,219\n",
      "Trainable params: 2,862,819\n",
      "Non-trainable params: 2,831,400\n",
      "__________________________________________________________________________________________________\n"
     ]
    }
   ],
   "source": [
    "# Define the model\n",
    "encoder_inputs = Input(shape = (maxlen_questions, ))\n",
    "encoder_embedding = embedding_layer_question(encoder_inputs)\n",
    "encoder_outputs, state_h, state_c = LSTM(300,dropout=0.05,return_state=True)(encoder_embedding)\n",
    "encoder_states = [state_h, state_c]\n",
    "\n",
    "decoder_inputs = Input(shape=(maxlen_answers, ))\n",
    "decoder_embedding = embedding_layer_answer(decoder_inputs)\n",
    "decoder_lstm = LSTM(300, return_state=True, return_sequences=True,dropout=0.05)\n",
    "decoder_outputs , _ , _ = decoder_lstm(decoder_embedding, initial_state=encoder_states)\n",
    "decoder_dense = Dense(VOCAB_SIZE, activation='softmax') \n",
    "output = decoder_dense(decoder_outputs)\n",
    "\n",
    "model = Model([encoder_inputs, decoder_inputs], output)\n",
    "model.compile(optimizer = 'adam', loss = 'categorical_crossentropy', metrics=['acc'])\n",
    "\n",
    "model.summary()"
   ]
  },
  {
   "cell_type": "code",
   "execution_count": 22,
   "id": "be272334",
   "metadata": {
    "execution": {
     "iopub.execute_input": "2022-05-29T15:56:24.124154Z",
     "iopub.status.busy": "2022-05-29T15:56:24.123631Z",
     "iopub.status.idle": "2022-05-29T16:12:55.217938Z",
     "shell.execute_reply": "2022-05-29T16:12:55.217038Z"
    },
    "id": "TvpmndMTDwU0",
    "papermill": {
     "duration": 991.141774,
     "end_time": "2022-05-29T16:12:55.220251",
     "exception": false,
     "start_time": "2022-05-29T15:56:24.078477",
     "status": "completed"
    },
    "tags": []
   },
   "outputs": [
    {
     "name": "stdout",
     "output_type": "stream",
     "text": [
      "Epoch 1/200\n",
      "114/114 [==============================] - 76s 635ms/step - loss: 1.3992 - acc: 0.8853\n",
      "Epoch 2/200\n",
      "114/114 [==============================] - 79s 691ms/step - loss: 0.6613 - acc: 0.9096\n",
      "Epoch 3/200\n",
      "114/114 [==============================] - 77s 676ms/step - loss: 0.6459 - acc: 0.9098\n",
      "Epoch 4/200\n",
      "114/114 [==============================] - 77s 675ms/step - loss: 0.6356 - acc: 0.9098\n",
      "Epoch 5/200\n",
      "114/114 [==============================] - 73s 638ms/step - loss: 0.6265 - acc: 0.9100\n",
      "Epoch 6/200\n",
      "114/114 [==============================] - 82s 719ms/step - loss: 0.6181 - acc: 0.9101\n",
      "Epoch 7/200\n",
      "114/114 [==============================] - 74s 649ms/step - loss: 0.6100 - acc: 0.9102\n",
      "Epoch 8/200\n",
      "114/114 [==============================] - 99s 867ms/step - loss: 0.6021 - acc: 0.9108\n",
      "Epoch 9/200\n",
      "114/114 [==============================] - 82s 720ms/step - loss: 0.5964 - acc: 0.9109\n",
      "Epoch 10/200\n",
      "114/114 [==============================] - 76s 666ms/step - loss: 0.5860 - acc: 0.9114\n",
      "Epoch 11/200\n",
      "114/114 [==============================] - 78s 685ms/step - loss: 0.5778 - acc: 0.9116\n",
      "Epoch 12/200\n",
      "114/114 [==============================] - 77s 680ms/step - loss: 0.5700 - acc: 0.9118\n",
      "Epoch 13/200\n",
      "114/114 [==============================] - 83s 730ms/step - loss: 0.5620 - acc: 0.9120\n",
      "Epoch 14/200\n",
      "114/114 [==============================] - 87s 763ms/step - loss: 0.5545 - acc: 0.9123\n",
      "Epoch 15/200\n",
      "114/114 [==============================] - 82s 723ms/step - loss: 0.5463 - acc: 0.9125\n",
      "Epoch 16/200\n",
      "114/114 [==============================] - 83s 727ms/step - loss: 0.5384 - acc: 0.9129\n",
      "Epoch 17/200\n",
      "114/114 [==============================] - 81s 708ms/step - loss: 0.5303 - acc: 0.9132\n",
      "Epoch 18/200\n",
      "114/114 [==============================] - 79s 690ms/step - loss: 0.5218 - acc: 0.9135\n",
      "Epoch 19/200\n",
      "114/114 [==============================] - 79s 698ms/step - loss: 0.5141 - acc: 0.9137\n",
      "Epoch 20/200\n",
      "114/114 [==============================] - 80s 701ms/step - loss: 0.5066 - acc: 0.9141\n",
      "Epoch 21/200\n",
      "114/114 [==============================] - 80s 700ms/step - loss: 0.4966 - acc: 0.9145\n",
      "Epoch 22/200\n",
      "114/114 [==============================] - 80s 701ms/step - loss: 0.4881 - acc: 0.9149\n",
      "Epoch 23/200\n",
      "114/114 [==============================] - 79s 690ms/step - loss: 0.4796 - acc: 0.9153\n",
      "Epoch 24/200\n",
      "114/114 [==============================] - 77s 675ms/step - loss: 0.4710 - acc: 0.9159\n",
      "Epoch 25/200\n",
      "114/114 [==============================] - 74s 649ms/step - loss: 0.4635 - acc: 0.9164\n",
      "Epoch 26/200\n",
      "114/114 [==============================] - 76s 665ms/step - loss: 0.4562 - acc: 0.9170\n",
      "Epoch 27/200\n",
      "114/114 [==============================] - 75s 658ms/step - loss: 0.4487 - acc: 0.9175\n",
      "Epoch 28/200\n",
      "114/114 [==============================] - 76s 670ms/step - loss: 0.4413 - acc: 0.9183\n",
      "Epoch 29/200\n",
      "114/114 [==============================] - 79s 694ms/step - loss: 0.4340 - acc: 0.9192\n",
      "Epoch 30/200\n",
      "114/114 [==============================] - 74s 647ms/step - loss: 0.4273 - acc: 0.9201\n",
      "Epoch 31/200\n",
      "114/114 [==============================] - 75s 657ms/step - loss: 0.4196 - acc: 0.9209\n",
      "Epoch 32/200\n",
      "114/114 [==============================] - 75s 657ms/step - loss: 0.4130 - acc: 0.9218\n",
      "Epoch 33/200\n",
      "114/114 [==============================] - 74s 649ms/step - loss: 0.4061 - acc: 0.9228\n",
      "Epoch 34/200\n",
      "114/114 [==============================] - 80s 700ms/step - loss: 0.3993 - acc: 0.9237\n",
      "Epoch 35/200\n",
      "114/114 [==============================] - 80s 701ms/step - loss: 0.3928 - acc: 0.9242\n",
      "Epoch 36/200\n",
      "114/114 [==============================] - 80s 702ms/step - loss: 0.3863 - acc: 0.9251\n",
      "Epoch 37/200\n",
      "114/114 [==============================] - 82s 720ms/step - loss: 0.3833 - acc: 0.9255\n",
      "Epoch 38/200\n",
      "114/114 [==============================] - 83s 728ms/step - loss: 0.3820 - acc: 0.9256\n",
      "Epoch 39/200\n",
      "114/114 [==============================] - 81s 706ms/step - loss: 0.3697 - acc: 0.9270\n",
      "Epoch 40/200\n",
      "114/114 [==============================] - 86s 753ms/step - loss: 0.3627 - acc: 0.9281\n",
      "Epoch 41/200\n",
      "114/114 [==============================] - 87s 762ms/step - loss: 0.3570 - acc: 0.9289\n",
      "Epoch 42/200\n",
      "114/114 [==============================] - 88s 771ms/step - loss: 0.3513 - acc: 0.9297\n",
      "Epoch 43/200\n",
      "114/114 [==============================] - 85s 747ms/step - loss: 0.3452 - acc: 0.9305\n",
      "Epoch 44/200\n",
      "114/114 [==============================] - 83s 732ms/step - loss: 0.3398 - acc: 0.9314\n",
      "Epoch 45/200\n",
      "114/114 [==============================] - 80s 705ms/step - loss: 0.3343 - acc: 0.9321\n",
      "Epoch 46/200\n",
      "114/114 [==============================] - 81s 711ms/step - loss: 0.3296 - acc: 0.9330\n",
      "Epoch 47/200\n",
      "114/114 [==============================] - 84s 740ms/step - loss: 0.3240 - acc: 0.9339\n",
      "Epoch 48/200\n",
      "114/114 [==============================] - 82s 719ms/step - loss: 0.3195 - acc: 0.9347\n",
      "Epoch 49/200\n",
      "114/114 [==============================] - 75s 659ms/step - loss: 0.3147 - acc: 0.9356\n",
      "Epoch 50/200\n",
      "114/114 [==============================] - 74s 647ms/step - loss: 0.3098 - acc: 0.9363\n",
      "Epoch 51/200\n",
      "114/114 [==============================] - 77s 678ms/step - loss: 0.3055 - acc: 0.9369\n",
      "Epoch 52/200\n",
      "114/114 [==============================] - 77s 678ms/step - loss: 0.3002 - acc: 0.9379\n",
      "Epoch 53/200\n",
      "114/114 [==============================] - 78s 688ms/step - loss: 0.2953 - acc: 0.9385\n",
      "Epoch 54/200\n",
      "114/114 [==============================] - 76s 661ms/step - loss: 0.2909 - acc: 0.9391\n",
      "Epoch 55/200\n",
      "114/114 [==============================] - 78s 686ms/step - loss: 0.2877 - acc: 0.9399\n",
      "Epoch 56/200\n",
      "114/114 [==============================] - 82s 718ms/step - loss: 0.2841 - acc: 0.9402\n",
      "Epoch 57/200\n",
      "114/114 [==============================] - 78s 682ms/step - loss: 0.2807 - acc: 0.9410\n",
      "Epoch 58/200\n",
      "114/114 [==============================] - 77s 674ms/step - loss: 0.2746 - acc: 0.9421\n",
      "Epoch 59/200\n",
      "114/114 [==============================] - 77s 680ms/step - loss: 0.2704 - acc: 0.9430\n",
      "Epoch 60/200\n",
      "114/114 [==============================] - 76s 665ms/step - loss: 0.2657 - acc: 0.9437\n",
      "Epoch 61/200\n",
      "114/114 [==============================] - 78s 687ms/step - loss: 0.2625 - acc: 0.9441\n",
      "Epoch 62/200\n",
      "114/114 [==============================] - 77s 679ms/step - loss: 0.2574 - acc: 0.9451\n",
      "Epoch 63/200\n",
      "114/114 [==============================] - 73s 643ms/step - loss: 0.2541 - acc: 0.9457\n",
      "Epoch 64/200\n",
      "114/114 [==============================] - 71s 626ms/step - loss: 0.2506 - acc: 0.9464\n",
      "Epoch 65/200\n",
      "114/114 [==============================] - 66s 580ms/step - loss: 0.2504 - acc: 0.9467\n",
      "Epoch 66/200\n",
      "114/114 [==============================] - 71s 621ms/step - loss: 0.2440 - acc: 0.9475\n",
      "Epoch 67/200\n",
      "114/114 [==============================] - 72s 633ms/step - loss: 0.2399 - acc: 0.9486\n",
      "Epoch 68/200\n",
      "114/114 [==============================] - 68s 595ms/step - loss: 0.2359 - acc: 0.9491\n",
      "Epoch 69/200\n",
      "114/114 [==============================] - 65s 571ms/step - loss: 0.2329 - acc: 0.9497\n",
      "Epoch 70/200\n",
      "114/114 [==============================] - 70s 615ms/step - loss: 0.2294 - acc: 0.9503\n",
      "Epoch 71/200\n",
      "114/114 [==============================] - 66s 583ms/step - loss: 0.2262 - acc: 0.9511\n",
      "Epoch 72/200\n",
      "114/114 [==============================] - 69s 603ms/step - loss: 0.2232 - acc: 0.9518\n",
      "Epoch 73/200\n",
      "114/114 [==============================] - 68s 597ms/step - loss: 0.2197 - acc: 0.9523\n",
      "Epoch 74/200\n",
      "114/114 [==============================] - 72s 631ms/step - loss: 0.2159 - acc: 0.9532\n",
      "Epoch 75/200\n",
      "114/114 [==============================] - 68s 597ms/step - loss: 0.2134 - acc: 0.9536\n",
      "Epoch 76/200\n",
      "114/114 [==============================] - 69s 603ms/step - loss: 0.2098 - acc: 0.9545\n",
      "Epoch 77/200\n",
      "114/114 [==============================] - 69s 606ms/step - loss: 0.2070 - acc: 0.9549\n",
      "Epoch 78/200\n",
      "114/114 [==============================] - 71s 622ms/step - loss: 0.2035 - acc: 0.9558\n",
      "Epoch 79/200\n",
      "114/114 [==============================] - 74s 648ms/step - loss: 0.2014 - acc: 0.9560\n",
      "Epoch 80/200\n",
      "114/114 [==============================] - 72s 631ms/step - loss: 0.1983 - acc: 0.9567\n",
      "Epoch 81/200\n",
      "114/114 [==============================] - 69s 604ms/step - loss: 0.1955 - acc: 0.9571\n",
      "Epoch 82/200\n",
      "114/114 [==============================] - 67s 588ms/step - loss: 0.1925 - acc: 0.9579\n",
      "Epoch 83/200\n",
      "114/114 [==============================] - 67s 591ms/step - loss: 0.1908 - acc: 0.9582\n",
      "Epoch 84/200\n",
      "114/114 [==============================] - 68s 593ms/step - loss: 0.1880 - acc: 0.9589\n",
      "Epoch 85/200\n",
      "114/114 [==============================] - 68s 598ms/step - loss: 0.1853 - acc: 0.9594\n",
      "Epoch 86/200\n",
      "114/114 [==============================] - 68s 595ms/step - loss: 0.1824 - acc: 0.9599\n",
      "Epoch 87/200\n",
      "114/114 [==============================] - 67s 585ms/step - loss: 0.1802 - acc: 0.9603\n",
      "Epoch 88/200\n",
      "114/114 [==============================] - 72s 633ms/step - loss: 0.1780 - acc: 0.9608\n",
      "Epoch 89/200\n",
      "114/114 [==============================] - 68s 594ms/step - loss: 0.1757 - acc: 0.9615\n",
      "Epoch 90/200\n",
      "114/114 [==============================] - 69s 599ms/step - loss: 0.1723 - acc: 0.9622\n",
      "Epoch 91/200\n",
      "114/114 [==============================] - 75s 658ms/step - loss: 0.1702 - acc: 0.9627\n",
      "Epoch 92/200\n",
      "114/114 [==============================] - 77s 672ms/step - loss: 0.1677 - acc: 0.9632\n",
      "Epoch 93/200\n",
      "114/114 [==============================] - 76s 670ms/step - loss: 0.1651 - acc: 0.9640\n",
      "Epoch 94/200\n",
      "114/114 [==============================] - 74s 650ms/step - loss: 0.1630 - acc: 0.9642\n",
      "Epoch 95/200\n",
      "114/114 [==============================] - 73s 636ms/step - loss: 0.1613 - acc: 0.9646\n",
      "Epoch 96/200\n",
      "114/114 [==============================] - 95s 831ms/step - loss: 0.1603 - acc: 0.9649\n",
      "Epoch 97/200\n",
      "114/114 [==============================] - 86s 752ms/step - loss: 0.1577 - acc: 0.9655\n",
      "Epoch 98/200\n",
      "114/114 [==============================] - 74s 647ms/step - loss: 0.1556 - acc: 0.9659\n",
      "Epoch 99/200\n",
      "114/114 [==============================] - 77s 680ms/step - loss: 0.1522 - acc: 0.9667\n",
      "Epoch 100/200\n",
      "114/114 [==============================] - 68s 594ms/step - loss: 0.1506 - acc: 0.9670\n",
      "Epoch 101/200\n",
      "114/114 [==============================] - 83s 730ms/step - loss: 0.1486 - acc: 0.9673\n",
      "Epoch 102/200\n",
      "114/114 [==============================] - 78s 680ms/step - loss: 0.1483 - acc: 0.9673\n",
      "Epoch 103/200\n",
      "114/114 [==============================] - 80s 702ms/step - loss: 0.1453 - acc: 0.9681\n",
      "Epoch 104/200\n",
      "114/114 [==============================] - 80s 705ms/step - loss: 0.1427 - acc: 0.9687\n",
      "Epoch 105/200\n",
      "114/114 [==============================] - 74s 650ms/step - loss: 0.1405 - acc: 0.9691\n",
      "Epoch 106/200\n",
      "114/114 [==============================] - 76s 665ms/step - loss: 0.1392 - acc: 0.9695\n",
      "Epoch 107/200\n",
      "114/114 [==============================] - 81s 714ms/step - loss: 0.1396 - acc: 0.9691\n",
      "Epoch 108/200\n",
      "114/114 [==============================] - 70s 614ms/step - loss: 0.1383 - acc: 0.9696\n",
      "Epoch 109/200\n",
      "114/114 [==============================] - 72s 634ms/step - loss: 0.1361 - acc: 0.9702\n",
      "Epoch 110/200\n",
      "114/114 [==============================] - 71s 627ms/step - loss: 0.1331 - acc: 0.9708\n",
      "Epoch 111/200\n",
      "114/114 [==============================] - 79s 694ms/step - loss: 0.1311 - acc: 0.9711\n",
      "Epoch 112/200\n",
      "114/114 [==============================] - 90s 792ms/step - loss: 0.1296 - acc: 0.9712\n",
      "Epoch 113/200\n",
      "114/114 [==============================] - 79s 696ms/step - loss: 0.1278 - acc: 0.9717\n",
      "Epoch 114/200\n",
      "114/114 [==============================] - 74s 653ms/step - loss: 0.1271 - acc: 0.9719\n",
      "Epoch 115/200\n",
      "114/114 [==============================] - 77s 674ms/step - loss: 0.1251 - acc: 0.9721\n",
      "Epoch 116/200\n",
      "114/114 [==============================] - 74s 650ms/step - loss: 0.1281 - acc: 0.9716\n",
      "Epoch 117/200\n",
      "114/114 [==============================] - 82s 717ms/step - loss: 0.1233 - acc: 0.9725\n",
      "Epoch 118/200\n",
      "114/114 [==============================] - 81s 707ms/step - loss: 0.1206 - acc: 0.9732\n",
      "Epoch 119/200\n",
      "114/114 [==============================] - 82s 717ms/step - loss: 0.1188 - acc: 0.9736\n",
      "Epoch 120/200\n",
      "114/114 [==============================] - 69s 608ms/step - loss: 0.1182 - acc: 0.9737\n",
      "Epoch 121/200\n",
      "114/114 [==============================] - 73s 643ms/step - loss: 0.1160 - acc: 0.9742\n",
      "Epoch 122/200\n",
      "114/114 [==============================] - 80s 700ms/step - loss: 0.1143 - acc: 0.9745\n",
      "Epoch 123/200\n",
      "114/114 [==============================] - 75s 656ms/step - loss: 0.1135 - acc: 0.9747\n",
      "Epoch 124/200\n",
      "114/114 [==============================] - 74s 646ms/step - loss: 0.1132 - acc: 0.9748\n",
      "Epoch 125/200\n",
      "114/114 [==============================] - 72s 631ms/step - loss: 0.1114 - acc: 0.9752\n",
      "Epoch 126/200\n",
      "114/114 [==============================] - 75s 659ms/step - loss: 0.1100 - acc: 0.9753\n",
      "Epoch 127/200\n",
      "114/114 [==============================] - 71s 623ms/step - loss: 0.1089 - acc: 0.9757\n",
      "Epoch 128/200\n",
      "114/114 [==============================] - 76s 663ms/step - loss: 0.1082 - acc: 0.9757\n",
      "Epoch 129/200\n",
      "114/114 [==============================] - 77s 673ms/step - loss: 0.1067 - acc: 0.9758\n",
      "Epoch 130/200\n",
      "114/114 [==============================] - 74s 653ms/step - loss: 0.1045 - acc: 0.9764\n",
      "Epoch 131/200\n",
      "114/114 [==============================] - 72s 635ms/step - loss: 0.1037 - acc: 0.9765\n",
      "Epoch 132/200\n",
      "114/114 [==============================] - 73s 644ms/step - loss: 0.1031 - acc: 0.9766\n",
      "Epoch 133/200\n",
      "114/114 [==============================] - 73s 641ms/step - loss: 0.1030 - acc: 0.9765\n",
      "Epoch 134/200\n",
      "114/114 [==============================] - 74s 647ms/step - loss: 0.1010 - acc: 0.9771\n",
      "Epoch 135/200\n",
      "114/114 [==============================] - 74s 647ms/step - loss: 0.0990 - acc: 0.9776\n",
      "Epoch 136/200\n",
      "114/114 [==============================] - 74s 647ms/step - loss: 0.0986 - acc: 0.9775\n",
      "Epoch 137/200\n",
      "114/114 [==============================] - 71s 623ms/step - loss: 0.0986 - acc: 0.9773\n",
      "Epoch 138/200\n",
      "114/114 [==============================] - 71s 627ms/step - loss: 0.0973 - acc: 0.9776\n",
      "Epoch 139/200\n",
      "114/114 [==============================] - 72s 629ms/step - loss: 0.0956 - acc: 0.9781\n",
      "Epoch 140/200\n",
      "114/114 [==============================] - 66s 579ms/step - loss: 0.0946 - acc: 0.9782\n",
      "Epoch 141/200\n",
      "114/114 [==============================] - 72s 628ms/step - loss: 0.0934 - acc: 0.9785\n",
      "Epoch 142/200\n",
      "114/114 [==============================] - 71s 622ms/step - loss: 0.0922 - acc: 0.9789\n",
      "Epoch 143/200\n",
      "114/114 [==============================] - 71s 623ms/step - loss: 0.0928 - acc: 0.9785\n",
      "Epoch 144/200\n",
      "114/114 [==============================] - 70s 613ms/step - loss: 0.0908 - acc: 0.9788\n",
      "Epoch 145/200\n",
      "114/114 [==============================] - 70s 610ms/step - loss: 0.0905 - acc: 0.9789\n",
      "Epoch 146/200\n",
      "114/114 [==============================] - 69s 608ms/step - loss: 0.0923 - acc: 0.9783\n",
      "Epoch 147/200\n",
      "114/114 [==============================] - 70s 610ms/step - loss: 0.0899 - acc: 0.9791\n",
      "Epoch 148/200\n",
      "114/114 [==============================] - 73s 636ms/step - loss: 0.0880 - acc: 0.9795\n",
      "Epoch 149/200\n",
      "114/114 [==============================] - 72s 628ms/step - loss: 0.0866 - acc: 0.9796\n",
      "Epoch 150/200\n",
      "114/114 [==============================] - 71s 622ms/step - loss: 0.0855 - acc: 0.9801\n",
      "Epoch 151/200\n",
      "114/114 [==============================] - 71s 619ms/step - loss: 0.0845 - acc: 0.9802\n",
      "Epoch 152/200\n",
      "114/114 [==============================] - 71s 625ms/step - loss: 0.0838 - acc: 0.9802\n",
      "Epoch 153/200\n",
      "114/114 [==============================] - 72s 627ms/step - loss: 0.0840 - acc: 0.9801\n",
      "Epoch 154/200\n",
      "114/114 [==============================] - 71s 623ms/step - loss: 0.0880 - acc: 0.9791\n",
      "Epoch 155/200\n",
      "114/114 [==============================] - 71s 625ms/step - loss: 0.0833 - acc: 0.9802\n",
      "Epoch 156/200\n",
      "114/114 [==============================] - 71s 624ms/step - loss: 0.0822 - acc: 0.9805\n",
      "Epoch 157/200\n",
      "114/114 [==============================] - 65s 569ms/step - loss: 0.0812 - acc: 0.9806\n",
      "Epoch 158/200\n",
      "114/114 [==============================] - 65s 569ms/step - loss: 0.0792 - acc: 0.9813\n",
      "Epoch 159/200\n",
      "114/114 [==============================] - 65s 568ms/step - loss: 0.0779 - acc: 0.9813\n",
      "Epoch 160/200\n",
      "114/114 [==============================] - 70s 611ms/step - loss: 0.0792 - acc: 0.9808\n",
      "Epoch 161/200\n",
      "114/114 [==============================] - 73s 642ms/step - loss: 0.0790 - acc: 0.9809\n",
      "Epoch 162/200\n",
      "114/114 [==============================] - 74s 653ms/step - loss: 0.0773 - acc: 0.9814\n",
      "Epoch 163/200\n",
      "114/114 [==============================] - 72s 627ms/step - loss: 0.0758 - acc: 0.9817\n",
      "Epoch 164/200\n",
      "114/114 [==============================] - 72s 629ms/step - loss: 0.0745 - acc: 0.9822\n",
      "Epoch 165/200\n",
      "114/114 [==============================] - 73s 637ms/step - loss: 0.0734 - acc: 0.9824\n",
      "Epoch 166/200\n",
      "114/114 [==============================] - 72s 630ms/step - loss: 0.0735 - acc: 0.9822\n",
      "Epoch 167/200\n",
      "114/114 [==============================] - 72s 631ms/step - loss: 0.0747 - acc: 0.9818\n",
      "Epoch 168/200\n",
      "114/114 [==============================] - 72s 627ms/step - loss: 0.0724 - acc: 0.9824\n",
      "Epoch 169/200\n",
      "114/114 [==============================] - 73s 638ms/step - loss: 0.0715 - acc: 0.9826\n",
      "Epoch 170/200\n",
      "114/114 [==============================] - 73s 637ms/step - loss: 0.0704 - acc: 0.9829\n",
      "Epoch 171/200\n",
      "114/114 [==============================] - 73s 644ms/step - loss: 0.0699 - acc: 0.9828\n",
      "Epoch 172/200\n",
      "114/114 [==============================] - 73s 637ms/step - loss: 0.0703 - acc: 0.9827\n",
      "Epoch 173/200\n",
      "114/114 [==============================] - 72s 630ms/step - loss: 0.0686 - acc: 0.9834\n",
      "Epoch 174/200\n",
      "114/114 [==============================] - 72s 630ms/step - loss: 0.0685 - acc: 0.9833\n",
      "Epoch 175/200\n",
      "114/114 [==============================] - 72s 631ms/step - loss: 0.0687 - acc: 0.9830\n",
      "Epoch 176/200\n",
      "114/114 [==============================] - 73s 637ms/step - loss: 0.0714 - acc: 0.9823\n",
      "Epoch 177/200\n",
      "114/114 [==============================] - 73s 638ms/step - loss: 0.0678 - acc: 0.9834\n",
      "Epoch 178/200\n",
      "114/114 [==============================] - 72s 631ms/step - loss: 0.0656 - acc: 0.9839\n",
      "Epoch 179/200\n",
      "114/114 [==============================] - 72s 635ms/step - loss: 0.0646 - acc: 0.9841\n",
      "Epoch 180/200\n",
      "114/114 [==============================] - 73s 638ms/step - loss: 0.0639 - acc: 0.9844\n",
      "Epoch 181/200\n",
      "114/114 [==============================] - 76s 667ms/step - loss: 0.0630 - acc: 0.9845\n",
      "Epoch 182/200\n",
      "114/114 [==============================] - 73s 644ms/step - loss: 0.0631 - acc: 0.9844\n",
      "Epoch 183/200\n",
      "114/114 [==============================] - 75s 656ms/step - loss: 0.0641 - acc: 0.9840\n",
      "Epoch 184/200\n",
      "114/114 [==============================] - 75s 661ms/step - loss: 0.0631 - acc: 0.9843\n",
      "Epoch 185/200\n",
      "114/114 [==============================] - 75s 659ms/step - loss: 0.0621 - acc: 0.9846\n",
      "Epoch 186/200\n",
      "114/114 [==============================] - 76s 665ms/step - loss: 0.0609 - acc: 0.9849\n",
      "Epoch 187/200\n",
      "114/114 [==============================] - 78s 687ms/step - loss: 0.0598 - acc: 0.9854\n",
      "Epoch 188/200\n",
      "114/114 [==============================] - 75s 657ms/step - loss: 0.0605 - acc: 0.9849\n",
      "Epoch 189/200\n",
      "114/114 [==============================] - 80s 705ms/step - loss: 0.0601 - acc: 0.9851\n",
      "Epoch 190/200\n",
      "114/114 [==============================] - 82s 721ms/step - loss: 0.0596 - acc: 0.9851\n",
      "Epoch 191/200\n",
      "114/114 [==============================] - 77s 670ms/step - loss: 0.0581 - acc: 0.9853\n",
      "Epoch 192/200\n",
      "114/114 [==============================] - 413s 4s/step - loss: 0.0579 - acc: 0.9855\n",
      "Epoch 193/200\n",
      "114/114 [==============================] - 65s 565ms/step - loss: 0.0581 - acc: 0.9855\n",
      "Epoch 194/200\n",
      "114/114 [==============================] - 61s 536ms/step - loss: 0.0598 - acc: 0.9847\n",
      "Epoch 195/200\n",
      "114/114 [==============================] - 64s 561ms/step - loss: 0.0573 - acc: 0.9855\n",
      "Epoch 196/200\n",
      "114/114 [==============================] - 69s 608ms/step - loss: 0.0568 - acc: 0.9856\n",
      "Epoch 197/200\n",
      "114/114 [==============================] - 68s 601ms/step - loss: 0.0562 - acc: 0.9857\n",
      "Epoch 198/200\n",
      "114/114 [==============================] - 60s 524ms/step - loss: 0.0551 - acc: 0.9862\n",
      "Epoch 199/200\n",
      "114/114 [==============================] - 60s 524ms/step - loss: 0.0542 - acc: 0.9864\n",
      "Epoch 200/200\n",
      "114/114 [==============================] - 60s 526ms/step - loss: 0.0542 - acc: 0.9863\n"
     ]
    }
   ],
   "source": [
    "checkpoint = ModelCheckpoint('model.h5', monitor='loss', verbose=1, save_best_only=True)\n",
    "\n",
    "# train model\n",
    "history = model.fit([encoder_input_data , decoder_input_data], decoder_output_data, batch_size=64, epochs=200) "
   ]
  },
  {
   "cell_type": "markdown",
   "id": "24ba69c9",
   "metadata": {
    "papermill": {
     "duration": 4.61646,
     "end_time": "2022-05-29T16:13:04.160916",
     "exception": false,
     "start_time": "2022-05-29T16:12:59.544456",
     "status": "completed"
    },
    "tags": []
   },
   "source": [
    "**Visualize Training Progress**"
   ]
  },
  {
   "cell_type": "code",
   "execution_count": 23,
   "id": "0a8e060d",
   "metadata": {
    "execution": {
     "iopub.execute_input": "2022-05-29T16:13:13.048452Z",
     "iopub.status.busy": "2022-05-29T16:13:13.048179Z",
     "iopub.status.idle": "2022-05-29T16:13:13.278938Z",
     "shell.execute_reply": "2022-05-29T16:13:13.278253Z"
    },
    "papermill": {
     "duration": 4.842998,
     "end_time": "2022-05-29T16:13:13.280665",
     "exception": false,
     "start_time": "2022-05-29T16:13:08.437667",
     "status": "completed"
    },
    "tags": []
   },
   "outputs": [
    {
     "data": {
      "image/png": "[encoded data removed]",
      "text/plain": [
       "<Figure size 1000x500 with 1 Axes>"
      ]
     },
     "metadata": {},
     "output_type": "display_data"
    }
   ],
   "source": [
    "%matplotlib inline\n",
    "import matplotlib.pyplot as plt\n",
    "plt.rcParams['figure.figsize'] = (10, 5)\n",
    "# Plot training accuracy & loss values\n",
    "plt.plot(history.history['acc'])\n",
    "plt.plot(history.history['loss'])\n",
    "plt.title('Model accuracy')\n",
    "plt.ylabel('Value')\n",
    "plt.xlabel('Epoch')\n",
    "plt.legend(['Accuracy','Loss'], loc='upper left')\n",
    "plt.show()"
   ]
  },
  {
   "cell_type": "code",
   "execution_count": 24,
   "id": "34e1a1ca",
   "metadata": {
    "execution": {
     "iopub.execute_input": "2022-05-29T16:13:22.422363Z",
     "iopub.status.busy": "2022-05-29T16:13:22.422029Z",
     "iopub.status.idle": "2022-05-29T16:13:22.476549Z",
     "shell.execute_reply": "2022-05-29T16:13:22.475810Z"
    },
    "papermill": {
     "duration": 4.688325,
     "end_time": "2022-05-29T16:13:22.478950",
     "exception": false,
     "start_time": "2022-05-29T16:13:17.790625",
     "status": "completed"
    },
    "tags": []
   },
   "outputs": [],
   "source": [
    "model.save_weights('chatbot_weights.h5')"
   ]
  },
  {
   "cell_type": "markdown",
   "id": "16b46350",
   "metadata": {
    "papermill": {
     "duration": 4.319983,
     "end_time": "2022-05-29T16:13:31.348698",
     "exception": false,
     "start_time": "2022-05-29T16:13:27.028715",
     "status": "completed"
    },
    "tags": []
   },
   "source": [
    "**Defining Inference Models**"
   ]
  },
  {
   "cell_type": "code",
   "execution_count": 25,
   "id": "2ef85d50",
   "metadata": {
    "execution": {
     "iopub.execute_input": "2022-05-29T16:13:40.466898Z",
     "iopub.status.busy": "2022-05-29T16:13:40.466569Z",
     "iopub.status.idle": "2022-05-29T16:13:40.472825Z",
     "shell.execute_reply": "2022-05-29T16:13:40.472112Z"
    },
    "id": "7mIQvGDZTcHq",
    "papermill": {
     "duration": 4.362139,
     "end_time": "2022-05-29T16:13:40.474603",
     "exception": false,
     "start_time": "2022-05-29T16:13:36.112464",
     "status": "completed"
    },
    "tags": []
   },
   "outputs": [],
   "source": [
    "def make_inference_models():\n",
    "    \n",
    "    encoder_model = Model(encoder_inputs, encoder_states)\n",
    "    \n",
    "    decoder_state_input_h = Input(shape=(300,))\n",
    "    decoder_state_input_c = Input(shape=(300,))\n",
    "    \n",
    "    decoder_states_inputs = [decoder_state_input_h, decoder_state_input_c]\n",
    "    \n",
    "    decoder_outputs, state_h, state_c = decoder_lstm(\n",
    "        decoder_embedding , initial_state=decoder_states_inputs)\n",
    "    \n",
    "    decoder_states = [state_h, state_c]\n",
    "\n",
    "    decoder_outputs = decoder_dense(decoder_outputs)\n",
    "    \n",
    "    decoder_model = Model(\n",
    "        [decoder_inputs] + decoder_states_inputs,\n",
    "        [decoder_outputs] + decoder_states)\n",
    "    \n",
    "    return encoder_model, decoder_model"
   ]
  },
  {
   "cell_type": "markdown",
   "id": "cac05552",
   "metadata": {
    "papermill": {
     "duration": 4.458978,
     "end_time": "2022-05-29T16:13:49.382924",
     "exception": false,
     "start_time": "2022-05-29T16:13:44.923946",
     "status": "completed"
    },
    "tags": []
   },
   "source": [
    "**Bot Chatting**"
   ]
  },
  {
   "cell_type": "code",
   "execution_count": 26,
   "id": "03d173a2",
   "metadata": {
    "execution": {
     "iopub.execute_input": "2022-05-29T16:13:58.803301Z",
     "iopub.status.busy": "2022-05-29T16:13:58.802946Z",
     "iopub.status.idle": "2022-05-29T16:13:58.808075Z",
     "shell.execute_reply": "2022-05-29T16:13:58.807358Z"
    },
    "id": "EaVIb-nYTenp",
    "papermill": {
     "duration": 4.59269,
     "end_time": "2022-05-29T16:13:58.809918",
     "exception": false,
     "start_time": "2022-05-29T16:13:54.217228",
     "status": "completed"
    },
    "tags": []
   },
   "outputs": [],
   "source": [
    "def str_to_tokens(sentence):\n",
    "    words = word_tokenize(sentence.lower())\n",
    "    tokens_list = []\n",
    "    \n",
    "    for word in words:\n",
    "        tokens_list.append(tokenizer.word_index[word]) \n",
    "    return pad_sequences([tokens_list],maxlen = maxlen_questions , padding='post')"
   ]
  },
  {
   "cell_type": "code",
   "execution_count": 27,
   "id": "10d0b0f2",
   "metadata": {
    "execution": {
     "iopub.execute_input": "2022-05-29T16:14:07.723165Z",
     "iopub.status.busy": "2022-05-29T16:14:07.722912Z",
     "iopub.status.idle": "2022-05-29T16:14:08.234971Z",
     "shell.execute_reply": "2022-05-29T16:14:08.233599Z"
    },
    "id": "mjaicXTBUBC7",
    "papermill": {
     "duration": 5.075283,
     "end_time": "2022-05-29T16:14:08.236490",
     "exception": true,
     "start_time": "2022-05-29T16:14:03.161207",
     "status": "failed"
    },
    "tags": []
   },
   "outputs": [
    {
     "name": "stdout",
     "output_type": "stream",
     "text": [
      "BOT: Xin chào! Tôi là ChatBot. Nếu bạn muốn ngưng cuộc trò chuyện, hãy gõ Bye!\n",
      "1/1 [==============================] - 0s 381ms/step\n",
      "1/1 [==============================] - 0s 409ms/step\n",
      "1/1 [==============================] - 0s 19ms/step\n",
      "1/1 [==============================] - 0s 22ms/step\n",
      "1/1 [==============================] - 0s 22ms/step\n",
      "1/1 [==============================] - 0s 21ms/step\n",
      "BOT:  ayo whats up fen \n",
      "1/1 [==============================] - 0s 23ms/step\n",
      "1/1 [==============================] - 0s 20ms/step\n",
      "1/1 [==============================] - 0s 19ms/step\n",
      "BOT:  tạm biệt \n",
      "1/1 [==============================] - 0s 22ms/step\n",
      "1/1 [==============================] - 0s 32ms/step\n",
      "1/1 [==============================] - 0s 21ms/step\n",
      "BOT:  chưa \n",
      "1/1 [==============================] - 0s 24ms/step\n",
      "1/1 [==============================] - 0s 27ms/step\n",
      "1/1 [==============================] - 0s 21ms/step\n",
      "1/1 [==============================] - 0s 21ms/step\n",
      "BOT:  21 tuổi \n",
      "1/1 [==============================] - 0s 23ms/step\n",
      "1/1 [==============================] - 0s 21ms/step\n",
      "1/1 [==============================] - 0s 19ms/step\n",
      "1/1 [==============================] - 0s 20ms/step\n",
      "1/1 [==============================] - 0s 19ms/step\n",
      "1/1 [==============================] - 0s 19ms/step\n",
      "1/1 [==============================] - 0s 19ms/step\n",
      "1/1 [==============================] - 0s 29ms/step\n",
      "1/1 [==============================] - 0s 20ms/step\n",
      "1/1 [==============================] - 0s 20ms/step\n",
      "1/1 [==============================] - 0s 20ms/step\n",
      "1/1 [==============================] - 0s 20ms/step\n",
      "1/1 [==============================] - 0s 20ms/step\n",
      "1/1 [==============================] - 0s 20ms/step\n",
      "1/1 [==============================] - 0s 20ms/step\n",
      "BOT:  ây tính từ thuở sơ khai đến nay là được 20 cái xuân thanh rồi \n",
      "1/1 [==============================] - 0s 20ms/step\n",
      "1/1 [==============================] - 0s 20ms/step\n",
      "1/1 [==============================] - 0s 19ms/step\n",
      "1/1 [==============================] - 0s 20ms/step\n",
      "1/1 [==============================] - 0s 18ms/step\n",
      "1/1 [==============================] - 0s 18ms/step\n",
      "1/1 [==============================] - 0s 18ms/step\n",
      "1/1 [==============================] - 0s 19ms/step\n",
      "1/1 [==============================] - 0s 17ms/step\n",
      "BOT:  có hay đi coffee với bạn bè không \n",
      "1/1 [==============================] - 0s 20ms/step\n",
      "1/1 [==============================] - 0s 19ms/step\n",
      "1/1 [==============================] - 0s 20ms/step\n",
      "1/1 [==============================] - 0s 20ms/step\n",
      "1/1 [==============================] - 0s 19ms/step\n",
      "1/1 [==============================] - 0s 19ms/step\n",
      "1/1 [==============================] - 0s 19ms/step\n",
      "1/1 [==============================] - 0s 20ms/step\n",
      "1/1 [==============================] - 0s 20ms/step\n",
      "BOT:  có hay đi coffee với bạn bè không \n"
     ]
    }
   ],
   "source": [
    "enc_model ,dec_model = make_inference_models()\n",
    "\n",
    "flag=True\n",
    "print(\"BOT: Xin chào! Tôi là ChatBot. Nếu bạn muốn ngưng cuộc trò chuyện, hãy gõ Bye!\")\n",
    "\n",
    "while(flag==True):\n",
    "    human_response = input('Enter question : ')\n",
    "    if human_response != 'bye':\n",
    "        try:\n",
    "            states_values = enc_model.predict(str_to_tokens(human_response))\n",
    "            empty_target_seq = np.zeros((1, 1))\n",
    "            empty_target_seq[0, 0] = word2idx['start']\n",
    "            stop_condition = False\n",
    "            decoded_translation = ''\n",
    "            while not stop_condition:\n",
    "                dec_outputs, h, c = dec_model.predict([empty_target_seq] + states_values)\n",
    "\n",
    "                sampled_word_index = np.argmax(dec_outputs[0, -1, :])\n",
    "                sampled_word = None\n",
    "                for word, index in word2idx.items() :\n",
    "                    if sampled_word_index == index:\n",
    "                        decoded_translation += ' {}'.format(word)\n",
    "                        sampled_word = word\n",
    "\n",
    "                if sampled_word == 'end' or len(decoded_translation.split()) > maxlen_answers:\n",
    "                    stop_condition = True\n",
    "\n",
    "                empty_target_seq = np.zeros((1, 1))  \n",
    "                empty_target_seq[0 , 0] = sampled_word_index\n",
    "                states_values = [h, c] \n",
    "\n",
    "            print('BOT: ' + decoded_translation.replace(\"end\",\"\"))\n",
    "        except:\n",
    "            print(\"BOT: Xin lỗi câu này tôi chưa đc học ,vui lòng hỏi lại :( \")\n",
    "    else:\n",
    "        flag=False\n",
    "        print(\"BOT: Tạm biệt nha!\")\n",
    "    \n",
    "    "
   ]
  }
 ],
 "metadata": {
  "kernelspec": {
   "display_name": "Python 3",
   "language": "python",
   "name": "python3"
  },
  "language_info": {
   "codemirror_mode": {
    "name": "ipython",
    "version": 3
   },
   "file_extension": ".py",
   "mimetype": "text/x-python",
   "name": "python",
   "nbconvert_exporter": "python",
   "pygments_lexer": "ipython3",
   "version": "3.11.0"
  },
  "papermill": {
   "default_parameters": {},
   "duration": 1175.946516,
   "end_time": "2022-05-29T16:14:15.590700",
   "environment_variables": {},
   "exception": true,
   "input_path": "__notebook__.ipynb",
   "output_path": "__notebook__.ipynb",
   "parameters": {},
   "start_time": "2022-05-29T15:54:39.644184",
   "version": "2.3.4"
  }
 },
 "nbformat": 4,
 "nbformat_minor": 5
}
